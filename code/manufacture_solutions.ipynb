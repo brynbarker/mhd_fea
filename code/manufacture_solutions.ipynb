{
 "cells": [
  {
   "cell_type": "code",
   "execution_count": 1,
   "metadata": {},
   "outputs": [],
   "source": [
    "from sympy import *"
   ]
  },
  {
   "cell_type": "code",
   "execution_count": 14,
   "metadata": {},
   "outputs": [],
   "source": [
    "from sympy.vector import CoordSys3D"
   ]
  },
  {
   "cell_type": "code",
   "execution_count": 2,
   "metadata": {},
   "outputs": [],
   "source": [
    "init_printing()"
   ]
  },
  {
   "cell_type": "code",
   "execution_count": 4,
   "metadata": {},
   "outputs": [],
   "source": [
    "x, y, t = symbols('x, y, t')\n",
    "nu, beta = symbols('nu, beta')"
   ]
  },
  {
   "cell_type": "code",
   "execution_count": 36,
   "metadata": {},
   "outputs": [],
   "source": [
    "u_1, u_2 = symbols('u_1, u_2')"
   ]
  },
  {
   "cell_type": "code",
   "execution_count": 12,
   "metadata": {},
   "outputs": [],
   "source": [
    "C = CoordSys3D('C')"
   ]
  },
  {
   "cell_type": "code",
   "execution_count": 16,
   "metadata": {},
   "outputs": [
    {
     "data": {
      "image/png": "[encoded data removed]",
      "text/latex": [
       "$$\\mathbf{{x}_{C}}$$"
      ],
      "text/plain": [
       "C.x"
      ]
     },
     "execution_count": 16,
     "metadata": {},
     "output_type": "execute_result"
    }
   ],
   "source": [
    "C.x"
   ]
  },
  {
   "cell_type": "code",
   "execution_count": 60,
   "metadata": {},
   "outputs": [],
   "source": [
    "def curl(v):\n",
    "    if len(v) == 2:\n",
    "        return [diff(v[1],x) - diff(v[0],y)]\n",
    "    else:\n",
    "        return [diff(v[0],y), -diff(v[0],x)]\n",
    "def div(v):\n",
    "    return diff(v[0],x) + diff(v[1],y)\n",
    "def cross(v1, v2):\n",
    "    return [v1[0]*v2[1] - v1[1]*v2[0]]"
   ]
  },
  {
   "cell_type": "code",
   "execution_count": 100,
   "metadata": {},
   "outputs": [],
   "source": [
    "def solve_for_f(h,u):\n",
    "    assert div(h) == 0\n",
    "    h_t = [diff(_, t) for _ in h]\n",
    "    c_u_h = curl( cross(u,h) )\n",
    "    c_c = curl( curl(h) )\n",
    "    f = [h_t[i] - c_u_h[i] + nu*c_c[i] for i in range(2)]\n",
    "    \n",
    "    return f"
   ]
  },
  {
   "cell_type": "code",
   "execution_count": 105,
   "metadata": {},
   "outputs": [],
   "source": [
    "h = [t*cos(y), t*sin(x)]\n",
    "# h = [-y**2, x**2]\n",
    "# u = [sympify(1), sympify(1)]\n",
    "u = [u_1, u_2]"
   ]
  },
  {
   "cell_type": "code",
   "execution_count": 106,
   "metadata": {},
   "outputs": [
    {
     "data": {
      "image/png": "[encoded data removed]",
      "text/latex": [
       "$$\\left [ \\nu t \\cos{\\left (y \\right )} - t u_{2} \\sin{\\left (y \\right )} + \\cos{\\left (y \\right )}, \\quad \\nu t \\sin{\\left (x \\right )} + t u_{1} \\cos{\\left (x \\right )} + \\sin{\\left (x \\right )}\\right ]$$"
      ],
      "text/plain": [
       "[ν⋅t⋅cos(y) - t⋅u₂⋅sin(y) + cos(y), ν⋅t⋅sin(x) + t⋅u₁⋅cos(x) + sin(x)]"
      ]
     },
     "execution_count": 106,
     "metadata": {},
     "output_type": "execute_result"
    }
   ],
   "source": [
    "solve_for_f(h,u)"
   ]
  },
  {
   "cell_type": "code",
   "execution_count": null,
   "metadata": {},
   "outputs": [],
   "source": []
  }
 ],
 "metadata": {
  "kernelspec": {
   "display_name": "Python 3",
   "language": "python",
   "name": "python3"
  },
  "language_info": {
   "codemirror_mode": {
    "name": "ipython",
    "version": 3
   },
   "file_extension": ".py",
   "mimetype": "text/x-python",
   "name": "python",
   "nbconvert_exporter": "python",
   "pygments_lexer": "ipython3",
   "version": "3.7.3"
  }
 },
 "nbformat": 4,
 "nbformat_minor": 2
}
